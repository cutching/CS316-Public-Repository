{
 "cells": [
  {
   "cell_type": "code",
   "execution_count": null,
   "id": "3bb2d54d",
   "metadata": {},
   "outputs": [],
   "source": [
    "from sagemaker import get_execution_role\n",
    "from sagemaker.pytorch import PyTorchModel\n",
    "import boto3\n",
    "import sagemaker\n",
    "\n",
    "sagemaker.Session(boto3.session.Session())"
   ]
  },
  {
   "cell_type": "code",
   "execution_count": null,
   "id": "a2b16b03",
   "metadata": {},
   "outputs": [],
   "source": [
    "role = \"AmazonSageMaker-ExecutionRole-20221103T192892\""
   ]
  },
  {
   "cell_type": "code",
   "execution_count": null,
   "id": "4701e1ed",
   "metadata": {},
   "outputs": [],
   "source": [
    "pytorch_model = PyTorchModel(model_data='s3://modelartifactdata/model.tar.gz', role=role, entry_point='inference.py', py_version='py3')"
   ]
  },
  {
   "cell_type": "code",
   "execution_count": null,
   "id": "57f6c1f1",
   "metadata": {},
   "outputs": [],
   "source": [
    "predictor = pytorch_model.deploy(instance_type='ml.c4.xlarge', initial_instance_count=1)"
   ]
  },
  {
   "cell_type": "code",
   "execution_count": null,
   "id": "a35a3f0a",
   "metadata": {},
   "outputs": [],
   "source": [
    "sm = boto3.client('sagemaker-runtime')"
   ]
  },
  {
   "cell_type": "code",
   "execution_count": null,
   "id": "f99190b0",
   "metadata": {},
   "outputs": [],
   "source": [
    "response = sm.invoke_endpoint(EndpointName=endpoint_name, \n",
    "                              Body=\"C:\\Users\\shady\\Documents\\GitHub\\CS-23-316-Near-Real-time-Anomaly-Detection\\src\\BETH_Data_and_Analysis\\data\\sample_single_safe.csv\")"
   ]
  },
  {
   "cell_type": "code",
   "execution_count": null,
   "id": "64d745c9",
   "metadata": {},
   "outputs": [],
   "source": [
    "print(response)"
   ]
  },
  {
   "cell_type": "code",
   "execution_count": null,
   "id": "1d5ca649",
   "metadata": {},
   "outputs": [],
   "source": [
    "sm.close()"
   ]
  },
  {
   "cell_type": "code",
   "execution_count": null,
   "id": "c1f7cbf8",
   "metadata": {},
   "outputs": [],
   "source": []
  }
 ],
 "metadata": {
  "kernelspec": {
   "display_name": "Python 3 (ipykernel)",
   "language": "python",
   "name": "python3"
  },
  "language_info": {
   "codemirror_mode": {
    "name": "ipython",
    "version": 3
   },
   "file_extension": ".py",
   "mimetype": "text/x-python",
   "name": "python",
   "nbconvert_exporter": "python",
   "pygments_lexer": "ipython3",
   "version": "3.8.16"
  }
 },
 "nbformat": 4,
 "nbformat_minor": 5
}
