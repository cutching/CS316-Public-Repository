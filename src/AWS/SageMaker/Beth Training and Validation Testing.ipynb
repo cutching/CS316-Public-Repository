{
 "cells": [
  {
   "cell_type": "code",
   "execution_count": null,
   "id": "be929322",
   "metadata": {},
   "outputs": [
    {
     "name": "stdout",
     "output_type": "stream",
     "text": [
      "----"
     ]
    }
   ],
   "source": [
    "# setups\n",
    "import os\n",
    "import json\n",
    "\n",
    "import boto3\n",
    "import sagemaker\n",
    "from sagemaker.pytorch import PyTorchModel\n",
    "from sagemaker import get_execution_role, Session\n",
    "from sagemaker.serializers import JSONSerializer\n",
    "from sagemaker.deserializers import JSONDeserializer\n",
    "\n",
    "sess = Session()\n",
    "\n",
    "role = get_execution_role()\n",
    "\n",
    "pytorch_model = PyTorchModel(model_data=\"s3://modelartifactdata/my_model.tar.gz\",\n",
    "                             source_dir='code',\n",
    "                             role=role,\n",
    "                             entry_point='bethInference.py',\n",
    "                             py_version=\"py39\",\n",
    "                             framework_version=\"1.13.1\")\n",
    "\n",
    "predictor = pytorch_model.deploy(instance_type='ml.m4.xlarge', \n",
    "                                 initial_instance_count=1,\n",
    "                                 serializer=JSONSerializer(),\n",
    "                                 deserializer=JSONDeserializer(),\n",
    "                                 endpoint_name='BethEndpoint')\n"
   ]
  },
  {
   "cell_type": "code",
   "execution_count": null,
   "id": "b3298f4f",
   "metadata": {},
   "outputs": [],
   "source": [
    "res = predictor.predict(\"s3://training-and-validation/sample_single_safe.csv\")"
   ]
  },
  {
   "cell_type": "code",
   "execution_count": null,
   "id": "f7cdd9e0",
   "metadata": {},
   "outputs": [],
   "source": [
    "print(res)"
   ]
  },
  {
   "cell_type": "code",
   "execution_count": null,
   "id": "461a48ff",
   "metadata": {},
   "outputs": [],
   "source": [
    "predictor.delete_endpoint()"
   ]
  },
  {
   "cell_type": "code",
   "execution_count": 56,
   "id": "e8f827fc",
   "metadata": {},
   "outputs": [],
   "source": [
    "import csv\n",
    "import re\n",
    "s3 = boto3.client('s3')\n",
    "obj = s3.get_object(Bucket='training-and-validation', Key='labelled_testing_data.csv')\n",
    "data = obj['Body'].read().decode('utf-8').splitlines()\n",
    "result = []\n",
    "for eachRecord in data[1000:2000]:\n",
    "    predVal = predictor.predict(str(eachRecord))\n",
    "    test = int(re.search(r'\\d+', predVal).group())\n",
    "    while test > 100:\n",
    "        predVal = predictor.predict(str(eachRecord))\n",
    "        test = int(re.search(r'\\d+', predVal).group())\n",
    "                                    \n",
    "    temp = [eachRecord[len(eachRecord)-3],eachRecord[len(eachRecord)-1], predVal]\n",
    "    result.append(temp)"
   ]
  },
  {
   "cell_type": "code",
   "execution_count": 51,
   "id": "6284aed4",
   "metadata": {},
   "outputs": [],
   "source": [
    "# opening the csv file in 'w+' mode\n",
    "file = open('result.csv', 'w+', newline ='')\n",
    " \n",
    "# writing the data into the file\n",
    "with file:   \n",
    "    write = csv.writer(file)\n",
    "    write.writerow(result[0])\n",
    "    \n",
    "file.close()"
   ]
  },
  {
   "cell_type": "code",
   "execution_count": null,
   "id": "0b36db58",
   "metadata": {},
   "outputs": [],
   "source": []
  },
  {
   "cell_type": "code",
   "execution_count": null,
   "id": "4782e202",
   "metadata": {},
   "outputs": [],
   "source": []
  }
 ],
 "metadata": {
  "kernelspec": {
   "display_name": "conda_amazonei_pytorch_latest_p37",
   "language": "python",
   "name": "conda_amazonei_pytorch_latest_p37"
  },
  "language_info": {
   "codemirror_mode": {
    "name": "ipython",
    "version": 3
   },
   "file_extension": ".py",
   "mimetype": "text/x-python",
   "name": "python",
   "nbconvert_exporter": "python",
   "pygments_lexer": "ipython3",
   "version": "3.7.10"
  }
 },
 "nbformat": 4,
 "nbformat_minor": 5
}
