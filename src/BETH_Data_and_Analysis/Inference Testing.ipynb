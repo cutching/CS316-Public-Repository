{
 "cells": [
  {
   "cell_type": "code",
   "execution_count": 1,
   "id": "0e4ee1ec",
   "metadata": {},
   "outputs": [],
   "source": [
    "import torch\n",
    "from torch import optim\n",
    "from torch.distributions import MultivariateNormal\n",
    "import argparse\n",
    "import torch.nn as nn\n",
    "import torch.nn.functional as F\n",
    "import numpy as np\n",
    "from torchvision import datasets\n",
    "import torchvision.transforms as transforms\n",
    "from dataset import DATASETS\n",
    "from benchmarks import *\n",
    "import matplotlib.pyplot as plt\n",
    "from vae import *\n",
    "from plotting import *\n",
    "import tqdm\n",
    "from datetime import datetime\n",
    "import pandas as pd\n",
    "from training import get_marginal_posterior, test_sklearn, test_vae, train_sklearn, train_vae, validate_sklearn, validate_vae"
   ]
  },
  {
   "cell_type": "code",
   "execution_count": 2,
   "id": "43945d93",
   "metadata": {},
   "outputs": [
    {
     "name": "stdout",
     "output_type": "stream",
     "text": [
      "cuda:0\n"
     ]
    }
   ],
   "source": [
    "device = torch.device(\"cuda:0\" if torch.cuda.is_available() else \"cpu\")\n",
    "print(device)"
   ]
  },
  {
   "cell_type": "code",
   "execution_count": 3,
   "id": "fe9f36b3",
   "metadata": {},
   "outputs": [],
   "source": [
    "def configure():\n",
    "    parser = argparse.ArgumentParser(description='')\n",
    "    # General flags\n",
    "    parser.add_argument('--dataset', type=str, default=\"beth\", choices=list(DATASETS.keys()), metavar='D', help='Dataset selection')\n",
    "    parser.add_argument('--disable-cuda', action='store_true', help='Disable CUDA')\n",
    "    parser.add_argument('--seed', type=int, default=1, metavar='S', help='Random seed')\n",
    "    parser.add_argument('--subsample', type=int, default=0, metavar='S', help='Factor by which to subsample the dataset')\n",
    "    parser.add_argument('--vis-latents', action='store_true', help='True if want to visualise latent space')\n",
    "    parser.add_argument('--vis', action='store_true', help='True if want to visualise dataset (and each epoch)')\n",
    "    # Training/Testing flags\n",
    "    parser.add_argument('--test', action='store_true', help='Test benchmarks')\n",
    "    parser.add_argument('--train', action='store_true', help='Train benchmarks')\n",
    "    parser.add_argument('--batch-size', type=int, default=128, metavar='B', help='Minibatch size')\n",
    "    parser.add_argument('--epochs', type=int, default=20, metavar='N', help='Training epochs')\n",
    "    parser.add_argument('--patience', type=int, default=3, metavar='P', help='Early stopping patience')\n",
    "    # Model flags\n",
    "    parser.add_argument('--benchmark', type=str, default=\"rcov\", choices=BENCHMARK_LIST, help='Override fitting of VAE model with specified benchmark')\n",
    "    parser.add_argument('--outliers-fraction', type=float, default=0.05, help='Assumed proportion of the data that is an outlier') # used in rcov and ifor\n",
    "    # # VAE\n",
    "    parser.add_argument('--latent-size', type=int, default=2, metavar='Z', help='Latent size')\n",
    "    parser.add_argument('--hidden-size', type=int, default=64, metavar='H', help='Hidden size')\n",
    "    parser.add_argument('--learning-rate', type=float, default=0.003, metavar='L', help='Learning rate')\n",
    "    parser.add_argument('--weight-decay', type=float, default=0.1, metavar='W', help='Weight decay')\n",
    "    args = parser.parse_args(['--train', '--benchmark', 'dose'])\n",
    "    use_cuda = torch.cuda.is_available() and not args.disable_cuda\n",
    "    args.device = torch.device('cuda' if use_cuda else 'cpu')\n",
    "    np.random.seed(args.seed)\n",
    "    torch.manual_seed(args.seed)\n",
    "    if use_cuda:\n",
    "        torch.cuda.manual_seed(args.seed)\n",
    "    return args\n"
   ]
  },
  {
   "cell_type": "code",
   "execution_count": 4,
   "id": "ea9eb615",
   "metadata": {},
   "outputs": [],
   "source": [
    "args = configure()\n",
    "train_dataset, val_dataset, test_dataset = [DATASETS[args.dataset](split=split, subsample=args.subsample) for split in [\"train\", \"val\", \"test\"]]\n",
    "input_shape = train_dataset.get_input_shape()\n"
   ]
  },
  {
   "cell_type": "code",
   "execution_count": 5,
   "id": "4b41bb1b",
   "metadata": {},
   "outputs": [],
   "source": [
    "model = VAE(input_shape=input_shape, latent_size=2, hidden_size=64, observation=train_dataset.get_distribution())\n",
    "model.to(device)\n",
    "optimiser = optim.AdamW(model.parameters(), lr=args.learning_rate, weight_decay=args.weight_decay)\n",
    "prior = MultivariateNormal(torch.zeros(args.latent_size, device=args.device), torch.eye(args.latent_size, device=args.device))"
   ]
  },
  {
   "cell_type": "code",
   "execution_count": 6,
   "id": "9a9f13c9",
   "metadata": {},
   "outputs": [],
   "source": [
    "pth_filename = \"results/beth_dose_1.pth\"  \n",
    "with open(pth_filename, 'wb') as file:  \n",
    "    torch.save(model, file)"
   ]
  },
  {
   "cell_type": "code",
   "execution_count": 7,
   "id": "e8b00cb2",
   "metadata": {},
   "outputs": [
    {
     "data": {
      "text/plain": [
       "VAE(\n",
       "  (encoder): EmbeddingEncoder(\n",
       "    (embeddings): ModuleList(\n",
       "      (0): Embedding(2, 9)\n",
       "      (1): Embedding(2, 9)\n",
       "      (2): Embedding(2, 9)\n",
       "      (3): Embedding(2, 9)\n",
       "      (4): Embedding(1011, 9)\n",
       "      (5): Embedding(6, 9)\n",
       "      (6): Embedding(3, 9)\n",
       "    )\n",
       "    (fc2): Linear(in_features=63, out_features=4, bias=True)\n",
       "  )\n",
       "  (decoder): CategoricalDecoder(\n",
       "    (fc1): Linear(in_features=2, out_features=64, bias=True)\n",
       "    (fc2): Linear(in_features=64, out_features=1028, bias=True)\n",
       "  )\n",
       ")"
      ]
     },
     "execution_count": 7,
     "metadata": {},
     "output_type": "execute_result"
    }
   ],
   "source": [
    "mynet = torch.load(\"results/beth_dose_1.pth\")\n",
    "mynet.eval()"
   ]
  },
  {
   "cell_type": "code",
   "execution_count": 8,
   "id": "d2221f13",
   "metadata": {},
   "outputs": [
    {
     "data": {
      "text/plain": [
       "<All keys matched successfully>"
      ]
     },
     "execution_count": 8,
     "metadata": {},
     "output_type": "execute_result"
    }
   ],
   "source": [
    "torch.save(model.state_dict(), \"results/beth_dose_1.pth\" )\n",
    "model.load_state_dict(torch.load(\"results/beth_dose_1.pth\" , map_location=lambda storage, loc: storage))"
   ]
  },
  {
   "cell_type": "code",
   "execution_count": 9,
   "id": "9857b799",
   "metadata": {},
   "outputs": [
    {
     "data": {
      "text/plain": [
       "VAE(\n",
       "  (encoder): EmbeddingEncoder(\n",
       "    (embeddings): ModuleList(\n",
       "      (0): Embedding(2, 9)\n",
       "      (1): Embedding(2, 9)\n",
       "      (2): Embedding(2, 9)\n",
       "      (3): Embedding(2, 9)\n",
       "      (4): Embedding(1011, 9)\n",
       "      (5): Embedding(6, 9)\n",
       "      (6): Embedding(3, 9)\n",
       "    )\n",
       "    (fc2): Linear(in_features=63, out_features=4, bias=True)\n",
       "  )\n",
       "  (decoder): CategoricalDecoder(\n",
       "    (fc1): Linear(in_features=2, out_features=64, bias=True)\n",
       "    (fc2): Linear(in_features=64, out_features=1028, bias=True)\n",
       "  )\n",
       ")"
      ]
     },
     "execution_count": 9,
     "metadata": {},
     "output_type": "execute_result"
    }
   ],
   "source": [
    "model.eval()"
   ]
  },
  {
   "cell_type": "code",
   "execution_count": 15,
   "id": "5ee45134",
   "metadata": {},
   "outputs": [
    {
     "name": "stdout",
     "output_type": "stream",
     "text": [
      "(tensor([[ 1,  0,  0,  1, 41,  3,  1]]), tensor([[0]]))\n"
     ]
    }
   ],
   "source": [
    "data = pd.read_csv(\"data/sample_single_safe.csv\")\n",
    "labels = pd.DataFrame(data[[\"sus\"]])\n",
    "data = pd.DataFrame(data[[\"processId\", \"parentProcessId\", \"userId\", \"mountNamespace\", \"eventId\", \"argsNum\", \"returnValue\"]])\n",
    "data[\"processId\"] = data[\"processId\"].map(lambda x: 0 if x in [0, 1, 2] else 1)  # Map to OS/not OS\n",
    "data[\"parentProcessId\"] = data[\"parentProcessId\"].map(lambda x: 0 if x in [0, 1, 2] else 1)  # Map to OS/not OS\n",
    "data[\"userId\"] = data[\"userId\"].map(lambda x: 0 if x < 1000 else 1)  # Map to OS/not OS\n",
    "data[\"mountNamespace\"] = data[\"mountNamespace\"].map(lambda x: 0 if x == 4026531840 else 1)  # Map to mount access to mnt/ (all non-OS users) /elsewhere\n",
    "data[\"eventId\"] = data[\"eventId\"]  # Keep eventId values (requires knowing max value)\n",
    "data[\"returnValue\"] = data[\"returnValue\"].map(lambda x: 0 if x == 0 else (1 if x > 0 else 2))  # Map to success/success with value/error\n",
    "# Extract values\n",
    "data = torch.as_tensor(data.values, dtype=torch.int64)\n",
    "labels = torch.as_tensor(labels.values, dtype=torch.int64)\n",
    "total = (data, labels)\n",
    "print(total)"
   ]
  },
  {
   "cell_type": "code",
   "execution_count": 17,
   "id": "24bde230",
   "metadata": {},
   "outputs": [
    {
     "ename": "AttributeError",
     "evalue": "'tuple' object has no attribute 'cuda'",
     "output_type": "error",
     "traceback": [
      "\u001b[1;31m---------------------------------------------------------------------------\u001b[0m",
      "\u001b[1;31mAttributeError\u001b[0m                            Traceback (most recent call last)",
      "Cell \u001b[1;32mIn[17], line 1\u001b[0m\n\u001b[1;32m----> 1\u001b[0m decode, predict, z \u001b[38;5;241m=\u001b[39m model(\u001b[43mtotal\u001b[49m\u001b[38;5;241;43m.\u001b[39;49m\u001b[43mcuda\u001b[49m())\n",
      "\u001b[1;31mAttributeError\u001b[0m: 'tuple' object has no attribute 'cuda'"
     ]
    }
   ],
   "source": [
    "decode, predict, z = model(total)"
   ]
  },
  {
   "cell_type": "code",
   "execution_count": 169,
   "id": "885eadd0",
   "metadata": {},
   "outputs": [
    {
     "name": "stdout",
     "output_type": "stream",
     "text": [
      "Independent(Normal(loc: torch.Size([1, 2]), scale: torch.Size([1, 2])), 1)\n",
      "tensor([[-0.1215,  1.0099]], device='cuda:0', grad_fn=<AddBackward0>)\n"
     ]
    }
   ],
   "source": [
    "print(predict)\n",
    "print(z)"
   ]
  },
  {
   "cell_type": "code",
   "execution_count": 191,
   "id": "9b400a9c",
   "metadata": {},
   "outputs": [
    {
     "name": "stdout",
     "output_type": "stream",
     "text": [
      "Evil= 1, Safe= 0:  0\n"
     ]
    }
   ],
   "source": [
    "predicted_class = np.argmax(predict)\n",
    "print(\"Evil= 1, Safe= 0: \", predicted_class)"
   ]
  },
  {
   "cell_type": "code",
   "execution_count": 129,
   "id": "a00953b1",
   "metadata": {},
   "outputs": [
    {
     "name": "stdout",
     "output_type": "stream",
     "text": [
      "    timestamp  processId  threadId  parentProcessId  userId  mountNamespace  \\\n",
      "0  496.624883       7555      7555             7548    1001      4026531840   \n",
      "\n",
      "  processName         hostName  eventId eventName stackAddresses  argsNum  \\\n",
      "0         tsm  ip-10-100-1-217       42   connect             []        3   \n",
      "\n",
      "   returnValue                                               args  sus  evil  \n",
      "0         -114  [{'name': 'sockfd', 'type': 'int', 'value': 34...    1     1  \n",
      "tensor([[ 1,  1,  1,  0, 42,  3,  2]])\n"
     ]
    }
   ],
   "source": [
    "data = pd.read_csv(\"data/sample_single_evil.csv\")\n",
    "print(data)\n",
    "labels = pd.DataFrame(data[[\"sus\"]])\n",
    "data = pd.DataFrame(data[[\"processId\", \"parentProcessId\", \"userId\", \"mountNamespace\", \"eventId\", \"argsNum\", \"returnValue\"]])\n",
    "data[\"processId\"] = data[\"processId\"].map(lambda x: 0 if x in [0, 1, 2] else 1)  # Map to OS/not OS\n",
    "data[\"parentProcessId\"] = data[\"parentProcessId\"].map(lambda x: 0 if x in [0, 1, 2] else 1)  # Map to OS/not OS\n",
    "data[\"userId\"] = data[\"userId\"].map(lambda x: 0 if x < 1000 else 1)  # Map to OS/not OS\n",
    "data[\"mountNamespace\"] = data[\"mountNamespace\"].map(lambda x: 0 if x == 4026531840 else 1)  # Map to mount access to mnt/ (all non-OS users) /elsewhere\n",
    "data[\"eventId\"] = data[\"eventId\"]  # Keep eventId values (requires knowing max value)\n",
    "data[\"returnValue\"] = data[\"returnValue\"].map(lambda x: 0 if x == 0 else (1 if x > 0 else 2))  # Map to success/success with value/error\n",
    "# Extract values\n",
    "data = torch.as_tensor(data.values, dtype=torch.int64)\n",
    "labels = torch.as_tensor(labels.values, dtype=torch.int64)\n",
    "\n",
    "print(data)"
   ]
  },
  {
   "cell_type": "code",
   "execution_count": 150,
   "id": "5cb2224b",
   "metadata": {},
   "outputs": [
    {
     "name": "stdout",
     "output_type": "stream",
     "text": [
      "tensor([[-0.1262,  2.2697]], device='cuda:0')\n",
      "tensor([[-0.2358, -0.0955]], device='cuda:0', grad_fn=<AddBackward0>)\n"
     ]
    }
   ],
   "source": [
    "decode, predict, z = model(data.cuda())\n",
    "print(predict.sample())\n",
    "print(z)"
   ]
  },
  {
   "cell_type": "code",
   "execution_count": 188,
   "id": "394e5a35",
   "metadata": {},
   "outputs": [
    {
     "name": "stdout",
     "output_type": "stream",
     "text": [
      "Evil= 1, Safe= 0:  1\n",
      "Independent(Normal(loc: torch.Size([1, 2]), scale: torch.Size([1, 2])), 1)\n"
     ]
    }
   ],
   "source": [
    "predicted_class = labels[np.argmax(predict)].numpy()[0]\n",
    "print(\"Evil= 1, Safe= 0: \", predicted_class)\n",
    "print(predict)"
   ]
  },
  {
   "cell_type": "code",
   "execution_count": null,
   "id": "37a08e6e",
   "metadata": {},
   "outputs": [],
   "source": []
  }
 ],
 "metadata": {
  "kernelspec": {
   "display_name": "Python 3 (ipykernel)",
   "language": "python",
   "name": "python3"
  },
  "language_info": {
   "codemirror_mode": {
    "name": "ipython",
    "version": 3
   },
   "file_extension": ".py",
   "mimetype": "text/x-python",
   "name": "python",
   "nbconvert_exporter": "python",
   "pygments_lexer": "ipython3",
   "version": "3.8.16"
  },
  "vscode": {
   "interpreter": {
    "hash": "505a1cd5dccc7e4f25083a87b24285ecaf9e0054169fe5955d7a41ff77094a8a"
   }
  }
 },
 "nbformat": 4,
 "nbformat_minor": 5
}
